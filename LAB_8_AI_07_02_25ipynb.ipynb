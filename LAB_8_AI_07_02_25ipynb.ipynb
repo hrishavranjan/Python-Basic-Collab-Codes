{
  "nbformat": 4,
  "nbformat_minor": 0,
  "metadata": {
    "colab": {
      "provenance": [],
      "authorship_tag": "ABX9TyMRiirL7ljzG6E+XmHLExIb",
      "include_colab_link": true
    },
    "kernelspec": {
      "name": "python3",
      "display_name": "Python 3"
    },
    "language_info": {
      "name": "python"
    }
  },
  "cells": [
    {
      "cell_type": "markdown",
      "metadata": {
        "id": "view-in-github",
        "colab_type": "text"
      },
      "source": [
        "<a href=\"https://colab.research.google.com/github/hrishavranjan/Python-Basic-Collab-Codes/blob/main/LAB_8_AI_07_02_25ipynb.ipynb\" target=\"_parent\"><img src=\"https://colab.research.google.com/assets/colab-badge.svg\" alt=\"Open In Colab\"/></a>"
      ]
    },
    {
      "cell_type": "code",
      "execution_count": null,
      "metadata": {
        "colab": {
          "base_uri": "https://localhost:8080/"
        },
        "id": "hZYpCyIZwKdb",
        "outputId": "74ee5ff7-814e-4c92-b19f-69ca420cb924"
      },
      "outputs": [
        {
          "output_type": "stream",
          "name": "stdout",
          "text": [
            "A* Task Order: ['C', 'B', 'E', 'A', 'D'], Total Time: 12\n",
            "Greedy Task Order: ['C', 'B', 'E', 'A', 'D'], Total Time: 12\n"
          ]
        }
      ],
      "source": [
        "import heapq\n",
        "\n",
        "def a_star_task_scheduling(tasks, dependencies):\n",
        "    in_degree = {task: 0 for task in tasks}\n",
        "    graph = {task: [] for task in tasks}\n",
        "\n",
        "    for dep in dependencies:\n",
        "        graph[dep[0]].append(dep[1])\n",
        "        in_degree[dep[1]] += 1\n",
        "\n",
        "    priority_queue = [(tasks[task], task) for task in tasks if in_degree[task] == 0]\n",
        "    heapq.heapify(priority_queue)\n",
        "\n",
        "    total_time = 0\n",
        "    order = []\n",
        "\n",
        "    while priority_queue:\n",
        "        time, task = heapq.heappop(priority_queue)\n",
        "        total_time += time\n",
        "        order.append(task)\n",
        "\n",
        "        for neighbor in graph[task]:\n",
        "            in_degree[neighbor] -= 1\n",
        "            if in_degree[neighbor] == 0:\n",
        "                heapq.heappush(priority_queue, (tasks[neighbor], neighbor))\n",
        "\n",
        "    return order, total_time\n",
        "\n",
        "def greedy_task_scheduling(tasks, dependencies):\n",
        "    sorted_tasks = sorted(tasks.items(), key=lambda x: x[1])\n",
        "    order = [task[0] for task in sorted_tasks]\n",
        "    total_time = sum(tasks.values())\n",
        "    return order, total_time\n",
        "\n",
        "if __name__ == \"__main__\":\n",
        "    tasks = {'A': 3, 'B': 2, 'C': 1, 'D': 4, 'E': 2}\n",
        "    dependencies = [('A', 'D'), ('B', 'D'), ('C', 'E')]\n",
        "\n",
        "    a_star_order, a_star_time = a_star_task_scheduling(tasks, dependencies)\n",
        "    greedy_order, greedy_time = greedy_task_scheduling(tasks, dependencies)\n",
        "\n",
        "    print(f\"A* Task Order: {a_star_order}, Total Time: {a_star_time}\")\n",
        "    print(f\"Greedy Task Order: {greedy_order}, Total Time: {greedy_time}\")\n"
      ]
    }
  ]
}