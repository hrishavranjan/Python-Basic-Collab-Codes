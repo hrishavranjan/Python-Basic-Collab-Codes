{
  "nbformat": 4,
  "nbformat_minor": 0,
  "metadata": {
    "colab": {
      "provenance": [],
      "authorship_tag": "ABX9TyOzDeD2HFHfhwvmgQyHJqbr",
      "include_colab_link": true
    },
    "kernelspec": {
      "name": "python3",
      "display_name": "Python 3"
    },
    "language_info": {
      "name": "python"
    }
  },
  "cells": [
    {
      "cell_type": "markdown",
      "metadata": {
        "id": "view-in-github",
        "colab_type": "text"
      },
      "source": [
        "<a href=\"https://colab.research.google.com/github/hrishavranjan/Python-Basic-Collab-Codes/blob/main/LAB_3_AI_10_01_25.ipynb\" target=\"_parent\"><img src=\"https://colab.research.google.com/assets/colab-badge.svg\" alt=\"Open In Colab\"/></a>"
      ]
    },
    {
      "cell_type": "code",
      "execution_count": null,
      "metadata": {
        "id": "_AUCoHUjXLS-"
      },
      "outputs": [],
      "source": [
        "import heapq\n",
        "\n",
        "def manhattan_distance(x1, y1, x2, y2):\n",
        "    \"\"\"Calculate Manhattan distance.\"\"\"\n",
        "    return abs(x1 - x2) + abs(y1 - y2)\n",
        "\n",
        "def best_first_search(grid, start, treasure):\n",
        "    \"\"\"Perform Best-First Search to locate the treasure in the grid.\"\"\"\n",
        "    rows, cols = len(grid), len(grid[0])\n",
        "    visited = set()\n",
        "    pq = []\n",
        "\n",
        "    start_x, start_y = start\n",
        "    treasure_x, treasure_y = treasure\n",
        "    heapq.heappush(pq, (manhattan_distance(start_x, start_y, treasure_x, treasure_y), start_x, start_y))\n",
        "\n",
        "    while pq:\n",
        "        heuristic, x, y = heapq.heappop(pq)\n",
        "\n",
        "        if (x, y) == (treasure_x, treasure_y):\n",
        "            return (x, y)\n",
        "\n",
        "        if (x, y) in visited:\n",
        "            continue\n",
        "        visited.add((x, y))\n",
        "\n",
        "        for dx, dy in [(-1, 0), (1, 0), (0, -1), (0, 1)]:\n",
        "            nx, ny = x + dx, y + dy\n",
        "\n",
        "            if 0 <= nx < rows and 0 <= ny < cols and (nx, ny) not in visited:\n",
        "                h = manhattan_distance(nx, ny, treasure_x, treasure_y)\n",
        "                heapq.heappush(pq, (h, nx, ny))\n",
        "\n",
        "    return None\n",
        "\n",
        "grid = [\n",
        "    [1, 1, 1, 1],\n",
        "    [1, 0, 0, 1],\n",
        "    [1, 1, 1, 1],\n",
        "    [1, 1, 1, 1]\n",
        "]\n",
        "\n",
        "start = (0, 0)\n",
        "treasure = (3, 3)\n",
        "\n",
        "result = best_first_search(grid, start, treasure)\n",
        "\n",
        "if result:\n",
        "    print(f\"Treasure found at: {result}\")\n",
        "else:\n",
        "    print(\"Treasure not found.\")\n"
      ]
    }
  ]
}