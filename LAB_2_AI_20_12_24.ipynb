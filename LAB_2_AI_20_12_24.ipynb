{
  "nbformat": 4,
  "nbformat_minor": 0,
  "metadata": {
    "colab": {
      "provenance": [],
      "authorship_tag": "ABX9TyMS+cEpUYM/HZCGeWSKAeeK",
      "include_colab_link": true
    },
    "kernelspec": {
      "name": "python3",
      "display_name": "Python 3"
    },
    "language_info": {
      "name": "python"
    }
  },
  "cells": [
    {
      "cell_type": "markdown",
      "metadata": {
        "id": "view-in-github",
        "colab_type": "text"
      },
      "source": [
        "<a href=\"https://colab.research.google.com/github/hrishavranjan/Python-Basic-Collab-Codes/blob/main/LAB_2_AI_20_12_24.ipynb\" target=\"_parent\"><img src=\"https://colab.research.google.com/assets/colab-badge.svg\" alt=\"Open In Colab\"/></a>"
      ]
    },
    {
      "cell_type": "code",
      "execution_count": 4,
      "metadata": {
        "colab": {
          "base_uri": "https://localhost:8080/"
        },
        "id": "oKZLbWX1jqUY",
        "outputId": "9f2e4c2c-5604-4655-f6fb-e97130fc8003"
      },
      "outputs": [
        {
          "output_type": "stream",
          "name": "stdout",
          "text": [
            "Enter the number of rows in the maze: 5\n",
            "Enter the number of columns in the maze: 5\n",
            "Enter the maze row by row (0 for wall, 1 for path):\n",
            "11000\n",
            "01011\n",
            "01110\n",
            "00010\n",
            "11111\n",
            "Enter the starting point (row and column): 0 0\n",
            "Enter the ending point (row and column): 4 4\n",
            "BFS Results:\n",
            "Shortest Path: None\n",
            "Nodes Explored: 1\n",
            "\n",
            "DFS Results:\n",
            "All Valid Paths: []\n",
            "Nodes Explored: 1\n",
            "\n",
            "Comparison:\n",
            "BFS explored 1 nodes.\n",
            "DFS explored 1 nodes.\n"
          ]
        }
      ],
      "source": [
        "from collections import deque\n",
        "\n",
        "def bfs(maze, start, end):\n",
        "    rows, cols = len(maze), len(maze[0])\n",
        "    queue = deque([(start, [start])])\n",
        "    visited = set()\n",
        "    visited.add(start)\n",
        "    nodes_explored = 0\n",
        "\n",
        "    while queue:\n",
        "        (x, y), path = queue.popleft()\n",
        "        nodes_explored += 1\n",
        "\n",
        "        if (x, y) == end:\n",
        "            return path, nodes_explored\n",
        "\n",
        "        for dx, dy in [(0, 1), (1, 0), (0, -1), (-1, 0)]:\n",
        "            nx, ny = x + dx, y + dy\n",
        "            if 0 <= nx < rows and 0 <= ny < cols and maze[nx][ny] == 1 and (nx, ny) not in visited:\n",
        "                visited.add((nx, ny))\n",
        "                queue.append(((nx, ny), path + [(nx, ny)]))\n",
        "\n",
        "    return None, nodes_explored\n",
        "\n",
        "def dfs(maze, start, end):\n",
        "    rows, cols = len(maze), len(maze[0])\n",
        "    stack = [(start, [start])]\n",
        "    visited = set()\n",
        "    nodes_explored = 0\n",
        "    valid_paths = []\n",
        "\n",
        "    while stack:\n",
        "        (x, y), path = stack.pop()\n",
        "        nodes_explored += 1\n",
        "\n",
        "        if (x, y) == end:\n",
        "            valid_paths.append(path)\n",
        "            continue\n",
        "\n",
        "        if (x, y) not in visited:\n",
        "            visited.add((x, y))\n",
        "            for dx, dy in [(0, 1), (1, 0), (0, -1), (-1, 0)]:\n",
        "                nx, ny = x + dx, y + dy\n",
        "                if 0 <= nx < rows and 0 <= ny < cols and maze[nx][ny] == 1:\n",
        "                    stack.append(((nx, ny), path + [(nx, ny)]))\n",
        "\n",
        "    return valid_paths, nodes_explored\n",
        "\n",
        "def compare_bfs_dfs(maze, start, end):\n",
        "    bfs_path, bfs_nodes = bfs(maze, start, end)\n",
        "    dfs_paths, dfs_nodes = dfs(maze, start, end)\n",
        "\n",
        "    print(\"BFS Results:\")\n",
        "    print(\"Shortest Path:\", bfs_path)\n",
        "    print(\"Nodes Explored:\", bfs_nodes)\n",
        "\n",
        "    print(\"\\nDFS Results:\")\n",
        "    print(\"All Valid Paths:\", dfs_paths)\n",
        "    print(\"Nodes Explored:\", dfs_nodes)\n",
        "\n",
        "    print(\"\\nComparison:\")\n",
        "    print(\"BFS explored\", bfs_nodes, \"nodes.\")\n",
        "    print(\"DFS explored\", dfs_nodes, \"nodes.\")\n",
        "\n",
        "def get_user_input():\n",
        "    rows = int(input(\"Enter the number of rows in the maze: \"))\n",
        "    cols = int(input(\"Enter the number of columns in the maze: \"))\n",
        "\n",
        "    print(\"Enter the maze row by row (0 for wall, 1 for path):\")\n",
        "    maze = []\n",
        "    for _ in range(rows):\n",
        "        row = list(map(int, input().split()))\n",
        "        maze.append(row)\n",
        "\n",
        "    start = tuple(map(int, input(\"Enter the starting point (row and column): \").split()))\n",
        "    end = tuple(map(int, input(\"Enter the ending point (row and column): \").split()))\n",
        "\n",
        "    return maze, start, end\n",
        "\n",
        "if __name__ == \"__main__\":  # Corrected this line\n",
        "    maze, start, end = get_user_input()\n",
        "    compare_bfs_dfs(maze, start, end)\n"
      ]
    },
    {
      "cell_type": "code",
      "source": [],
      "metadata": {
        "id": "RSEkDyUZjs30"
      },
      "execution_count": null,
      "outputs": []
    }
  ]
}