{
  "nbformat": 4,
  "nbformat_minor": 0,
  "metadata": {
    "colab": {
      "provenance": [],
      "authorship_tag": "ABX9TyPqAvxu1QuaZl1Gar8tXXLA",
      "include_colab_link": true
    },
    "kernelspec": {
      "name": "python3",
      "display_name": "Python 3"
    },
    "language_info": {
      "name": "python"
    }
  },
  "cells": [
    {
      "cell_type": "markdown",
      "metadata": {
        "id": "view-in-github",
        "colab_type": "text"
      },
      "source": [
        "<a href=\"https://colab.research.google.com/github/hrishavranjan/Python-Basic-Collab-Codes/blob/main/LAB_2_AI_20_12_24.ipynb\" target=\"_parent\"><img src=\"https://colab.research.google.com/assets/colab-badge.svg\" alt=\"Open In Colab\"/></a>"
      ]
    },
    {
      "cell_type": "code",
      "execution_count": 2,
      "metadata": {
        "colab": {
          "base_uri": "https://localhost:8080/",
          "height": 480
        },
        "id": "oKZLbWX1jqUY",
        "outputId": "4ccdd5dd-44fc-49d7-87c4-3ab1e9eb362a"
      },
      "outputs": [
        {
          "name": "stdout",
          "output_type": "stream",
          "text": [
            "Enter the number of rows in the maze: 3\n",
            "Enter the number of columns in the maze: 4\n",
            "Enter the maze row by row (0 for wall, 1 for path):\n",
            "3\n",
            "1\n",
            "5\n",
            "Enter the starting point (row and column): 3\n",
            "Enter the ending point (row and column): 4\n"
          ]
        },
        {
          "output_type": "error",
          "ename": "ValueError",
          "evalue": "not enough values to unpack (expected 2, got 1)",
          "traceback": [
            "\u001b[0;31m---------------------------------------------------------------------------\u001b[0m",
            "\u001b[0;31mValueError\u001b[0m                                Traceback (most recent call last)",
            "\u001b[0;32m<ipython-input-2-cdb85504343d>\u001b[0m in \u001b[0;36m<cell line: 80>\u001b[0;34m()\u001b[0m\n\u001b[1;32m     80\u001b[0m \u001b[0;32mif\u001b[0m \u001b[0m__name__\u001b[0m \u001b[0;34m==\u001b[0m \u001b[0;34m\"__main__\"\u001b[0m\u001b[0;34m:\u001b[0m\u001b[0;34m\u001b[0m\u001b[0;34m\u001b[0m\u001b[0m\n\u001b[1;32m     81\u001b[0m     \u001b[0mmaze\u001b[0m\u001b[0;34m,\u001b[0m \u001b[0mstart\u001b[0m\u001b[0;34m,\u001b[0m \u001b[0mend\u001b[0m \u001b[0;34m=\u001b[0m \u001b[0mget_user_input\u001b[0m\u001b[0;34m(\u001b[0m\u001b[0;34m)\u001b[0m\u001b[0;34m\u001b[0m\u001b[0;34m\u001b[0m\u001b[0m\n\u001b[0;32m---> 82\u001b[0;31m     \u001b[0mcompare_bfs_dfs\u001b[0m\u001b[0;34m(\u001b[0m\u001b[0mmaze\u001b[0m\u001b[0;34m,\u001b[0m \u001b[0mstart\u001b[0m\u001b[0;34m,\u001b[0m \u001b[0mend\u001b[0m\u001b[0;34m)\u001b[0m\u001b[0;34m\u001b[0m\u001b[0;34m\u001b[0m\u001b[0m\n\u001b[0m",
            "\u001b[0;32m<ipython-input-2-cdb85504343d>\u001b[0m in \u001b[0;36mcompare_bfs_dfs\u001b[0;34m(maze, start, end)\u001b[0m\n\u001b[1;32m     48\u001b[0m \u001b[0;34m\u001b[0m\u001b[0m\n\u001b[1;32m     49\u001b[0m \u001b[0;32mdef\u001b[0m \u001b[0mcompare_bfs_dfs\u001b[0m\u001b[0;34m(\u001b[0m\u001b[0mmaze\u001b[0m\u001b[0;34m,\u001b[0m \u001b[0mstart\u001b[0m\u001b[0;34m,\u001b[0m \u001b[0mend\u001b[0m\u001b[0;34m)\u001b[0m\u001b[0;34m:\u001b[0m\u001b[0;34m\u001b[0m\u001b[0;34m\u001b[0m\u001b[0m\n\u001b[0;32m---> 50\u001b[0;31m     \u001b[0mbfs_path\u001b[0m\u001b[0;34m,\u001b[0m \u001b[0mbfs_nodes\u001b[0m \u001b[0;34m=\u001b[0m \u001b[0mbfs\u001b[0m\u001b[0;34m(\u001b[0m\u001b[0mmaze\u001b[0m\u001b[0;34m,\u001b[0m \u001b[0mstart\u001b[0m\u001b[0;34m,\u001b[0m \u001b[0mend\u001b[0m\u001b[0;34m)\u001b[0m\u001b[0;34m\u001b[0m\u001b[0;34m\u001b[0m\u001b[0m\n\u001b[0m\u001b[1;32m     51\u001b[0m     \u001b[0mdfs_paths\u001b[0m\u001b[0;34m,\u001b[0m \u001b[0mdfs_nodes\u001b[0m \u001b[0;34m=\u001b[0m \u001b[0mdfs\u001b[0m\u001b[0;34m(\u001b[0m\u001b[0mmaze\u001b[0m\u001b[0;34m,\u001b[0m \u001b[0mstart\u001b[0m\u001b[0;34m,\u001b[0m \u001b[0mend\u001b[0m\u001b[0;34m)\u001b[0m\u001b[0;34m\u001b[0m\u001b[0;34m\u001b[0m\u001b[0m\n\u001b[1;32m     52\u001b[0m \u001b[0;34m\u001b[0m\u001b[0m\n",
            "\u001b[0;32m<ipython-input-2-cdb85504343d>\u001b[0m in \u001b[0;36mbfs\u001b[0;34m(maze, start, end)\u001b[0m\n\u001b[1;32m      9\u001b[0m \u001b[0;34m\u001b[0m\u001b[0m\n\u001b[1;32m     10\u001b[0m     \u001b[0;32mwhile\u001b[0m \u001b[0mqueue\u001b[0m\u001b[0;34m:\u001b[0m\u001b[0;34m\u001b[0m\u001b[0;34m\u001b[0m\u001b[0m\n\u001b[0;32m---> 11\u001b[0;31m         \u001b[0;34m(\u001b[0m\u001b[0mx\u001b[0m\u001b[0;34m,\u001b[0m \u001b[0my\u001b[0m\u001b[0;34m)\u001b[0m\u001b[0;34m,\u001b[0m \u001b[0mpath\u001b[0m \u001b[0;34m=\u001b[0m \u001b[0mqueue\u001b[0m\u001b[0;34m.\u001b[0m\u001b[0mpopleft\u001b[0m\u001b[0;34m(\u001b[0m\u001b[0;34m)\u001b[0m\u001b[0;34m\u001b[0m\u001b[0;34m\u001b[0m\u001b[0m\n\u001b[0m\u001b[1;32m     12\u001b[0m         \u001b[0mnodes_explored\u001b[0m \u001b[0;34m+=\u001b[0m \u001b[0;36m1\u001b[0m\u001b[0;34m\u001b[0m\u001b[0;34m\u001b[0m\u001b[0m\n\u001b[1;32m     13\u001b[0m \u001b[0;34m\u001b[0m\u001b[0m\n",
            "\u001b[0;31mValueError\u001b[0m: not enough values to unpack (expected 2, got 1)"
          ]
        }
      ],
      "source": [
        "from collections import deque\n",
        "\n",
        "def bfs(maze, start, end):\n",
        "    rows, cols = len(maze), len(maze[0])\n",
        "    queue = deque([(start, [start])])\n",
        "    visited = set()\n",
        "    visited.add(start)\n",
        "    nodes_explored = 0\n",
        "\n",
        "    while queue:\n",
        "        (x, y), path = queue.popleft()\n",
        "        nodes_explored += 1\n",
        "\n",
        "        if (x, y) == end:\n",
        "            return path, nodes_explored\n",
        "\n",
        "        for dx, dy in [(0, 1), (1, 0), (0, -1), (-1, 0)]:\n",
        "            nx, ny = x + dx, y + dy\n",
        "            if 0 <= nx < rows and 0 <= ny < cols and maze[nx][ny] == 1 and (nx, ny) not in visited:\n",
        "                visited.add((nx, ny))\n",
        "                queue.append(((nx, ny), path + [(nx, ny)]))\n",
        "\n",
        "    return None, nodes_explored\n",
        "\n",
        "def dfs(maze, start, end):\n",
        "    rows, cols = len(maze), len(maze[0])\n",
        "    stack = [(start, [start])]\n",
        "    visited = set()\n",
        "    visited.add(start)\n",
        "    nodes_explored = 0\n",
        "    valid_paths = []\n",
        "\n",
        "    while stack:\n",
        "        (x, y), path = stack.pop()\n",
        "        nodes_explored += 1\n",
        "\n",
        "        if (x, y) == end:\n",
        "            valid_paths.append(path)\n",
        "            continue\n",
        "\n",
        "        for dx, dy in [(0, 1), (1, 0), (0, -1), (-1, 0)]:\n",
        "            nx, ny = x + dx, y + dy\n",
        "            if 0 <= nx < rows and 0 <= ny < cols and maze[nx][ny] == 1 and (nx, ny) not in visited:\n",
        "                visited.add((nx, ny))\n",
        "                stack.append(((nx, ny), path + [(nx, ny)]))\n",
        "\n",
        "    return valid_paths, nodes_explored\n",
        "\n",
        "def compare_bfs_dfs(maze, start, end):\n",
        "    bfs_path, bfs_nodes = bfs(maze, start, end)\n",
        "    dfs_paths, dfs_nodes = dfs(maze, start, end)\n",
        "\n",
        "    print(\"BFS Results:\")\n",
        "    print(\"Shortest Path:\", bfs_path)\n",
        "    print(\"Nodes Explored:\", bfs_nodes)\n",
        "\n",
        "    print(\"\\nDFS Results:\")\n",
        "    print(\"All Valid Paths:\", dfs_paths)\n",
        "    print(\"Nodes Explored:\", dfs_nodes)\n",
        "\n",
        "    print(\"\\nComparison:\")\n",
        "    print(\"BFS explored\", bfs_nodes, \"nodes.\")\n",
        "    print(\"DFS explored\", dfs_nodes, \"nodes.\")\n",
        "\n",
        "def get_user_input():\n",
        "    rows = int(input(\"Enter the number of rows in the maze: \"))\n",
        "    cols = int(input(\"Enter the number of columns in the maze: \"))\n",
        "\n",
        "    print(\"Enter the maze row by row (0 for wall, 1 for path):\")\n",
        "    maze = []\n",
        "    for _ in range(rows):\n",
        "        row = list(map(int, input().split()))\n",
        "        maze.append(row)\n",
        "\n",
        "    start = tuple(map(int, input(\"Enter the starting point (row and column): \").split()))\n",
        "    end = tuple(map(int, input(\"Enter the ending point (row and column): \").split()))\n",
        "\n",
        "    return maze, start, end\n",
        "\n",
        "if __name__ == \"__main__\":\n",
        "    maze, start, end = get_user_input()\n",
        "    compare_bfs_dfs(maze, start, end)\n"
      ]
    },
    {
      "cell_type": "code",
      "source": [],
      "metadata": {
        "id": "RSEkDyUZjs30"
      },
      "execution_count": null,
      "outputs": []
    }
  ]
}