{
  "nbformat": 4,
  "nbformat_minor": 0,
  "metadata": {
    "colab": {
      "provenance": [],
      "authorship_tag": "ABX9TyNIRYk49yA9pdJrosNazbKX",
      "include_colab_link": true
    },
    "kernelspec": {
      "name": "python3",
      "display_name": "Python 3"
    },
    "language_info": {
      "name": "python"
    }
  },
  "cells": [
    {
      "cell_type": "markdown",
      "metadata": {
        "id": "view-in-github",
        "colab_type": "text"
      },
      "source": [
        "<a href=\"https://colab.research.google.com/github/hrishavranjan/Python-Basic-Collab-Codes/blob/main/LAB_9_AI_07_02_25.ipynb\" target=\"_parent\"><img src=\"https://colab.research.google.com/assets/colab-badge.svg\" alt=\"Open In Colab\"/></a>"
      ]
    },
    {
      "cell_type": "code",
      "execution_count": 15,
      "metadata": {
        "colab": {
          "base_uri": "https://localhost:8080/"
        },
        "id": "c1kvdZ9Qp0Rx",
        "outputId": "bfe9f53b-22c8-4a2f-bdc7-e7149b8faacd"
      },
      "outputs": [
        {
          "output_type": "stream",
          "name": "stdout",
          "text": [
            "BFS Nodes Explored: 15, Time Taken: 0.000029 seconds\n",
            "DFS Nodes Explored: 9, Time Taken: 0.000016 seconds\n",
            "A* Nodes Explored: 11, Time Taken: 0.000037 seconds\n"
          ]
        }
      ],
      "source": [
        "import heapq\n",
        "import time\n",
        "from collections import deque\n",
        "\n",
        "def bfs(grid, start, goal):\n",
        "    queue = deque([start])\n",
        "    visited = set()\n",
        "    visited.add(start)\n",
        "    nodes_explored = 0\n",
        "    start_time = time.time()\n",
        "\n",
        "    while queue:\n",
        "        nodes_explored += 1\n",
        "        x, y = queue.popleft()\n",
        "        if (x, y) == goal:\n",
        "            return nodes_explored, time.time() - start_time\n",
        "\n",
        "        for dx, dy in [(-1,0), (1,0), (0,-1), (0,1)]:\n",
        "            nx, ny = x + dx, y + dy\n",
        "            if (nx, ny) in visited or not (0 <= nx < len(grid) and 0 <= ny < len(grid[0])):\n",
        "                continue\n",
        "            if grid[nx][ny] == 1:\n",
        "                continue\n",
        "            queue.append((nx, ny))\n",
        "            visited.add((nx, ny))\n",
        "    return -1, time.time() - start_time\n",
        "\n",
        "def dfs(grid, start, goal):\n",
        "    stack = [start]\n",
        "    visited = set()\n",
        "    visited.add(start)\n",
        "    nodes_explored = 0\n",
        "    start_time = time.time()\n",
        "\n",
        "    while stack:\n",
        "        nodes_explored += 1\n",
        "        x, y = stack.pop()\n",
        "        if (x, y) == goal:\n",
        "            return nodes_explored, time.time() - start_time\n",
        "\n",
        "        for dx, dy in [(-1,0), (1,0), (0,-1), (0,1)]:\n",
        "            nx, ny = x + dx, y + dy\n",
        "            if (nx, ny) in visited or not (0 <= nx < len(grid) and 0 <= ny < len(grid[0])):\n",
        "                continue\n",
        "            if grid[nx][ny] == 1:\n",
        "                continue\n",
        "            stack.append((nx, ny))\n",
        "            visited.add((nx, ny))\n",
        "    return -1, time.time() - start_time\n",
        "\n",
        "def a_star(grid, start, goal):\n",
        "    def heuristic(a, b):\n",
        "        return abs(a[0] - b[0]) + abs(a[1] - b[1])\n",
        "\n",
        "    open_set = []\n",
        "    heapq.heappush(open_set, (0, start))\n",
        "    g_score = {start: 0}\n",
        "    nodes_explored = 0\n",
        "    start_time = time.time()\n",
        "\n",
        "    while open_set:\n",
        "        nodes_explored += 1\n",
        "        _, current = heapq.heappop(open_set)\n",
        "        if current == goal:\n",
        "            return nodes_explored, time.time() - start_time\n",
        "\n",
        "        for dx, dy in [(-1,0), (1,0), (0,-1), (0,1)]:\n",
        "            neighbor = (current[0] + dx, current[1] + dy)\n",
        "            if not (0 <= neighbor[0] < len(grid) and 0 <= neighbor[1] < len(grid[0])):\n",
        "                continue\n",
        "            if grid[neighbor[0]][neighbor[1]] == 1:\n",
        "                continue\n",
        "            tentative_g_score = g_score[current] + 1\n",
        "            if neighbor not in g_score or tentative_g_score < g_score[neighbor]:\n",
        "                g_score[neighbor] = tentative_g_score\n",
        "                heapq.heappush(open_set, (tentative_g_score + heuristic(neighbor, goal), neighbor))\n",
        "    return -1, time.time() - start_time\n",
        "\n",
        "# Example usage\n",
        "grid = [\n",
        "    [0, 0, 0, 0, 0],\n",
        "    [1, 1, 0, 1, 0],\n",
        "    [0, 0, 0, 1, 0],\n",
        "    [0, 1, 1, 1, 0],\n",
        "    [0, 0, 0, 0, 0]\n",
        "]\n",
        "\n",
        "start = (0, 0)\n",
        "goal = (4, 4)\n",
        "\n",
        "bfs_result, bfs_time = bfs(grid, start, goal)\n",
        "dfs_result, dfs_time = dfs(grid, start, goal)\n",
        "a_star_result, a_star_time = a_star(grid, start, goal)\n",
        "\n",
        "print(f\"BFS Nodes Explored: {bfs_result}, Time Taken: {bfs_time:.6f} seconds\")\n",
        "print(f\"DFS Nodes Explored: {dfs_result}, Time Taken: {dfs_time:.6f} seconds\")\n",
        "print(f\"A* Nodes Explored: {a_star_result}, Time Taken: {a_star_time:.6f} seconds\")\n"
      ]
    }
  ]
}