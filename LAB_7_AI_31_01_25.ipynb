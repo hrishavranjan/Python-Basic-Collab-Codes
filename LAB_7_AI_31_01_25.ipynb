{
  "nbformat": 4,
  "nbformat_minor": 0,
  "metadata": {
    "colab": {
      "provenance": [],
      "authorship_tag": "ABX9TyNtSIXSAJ+m8caaZvbHCcYA",
      "include_colab_link": true
    },
    "kernelspec": {
      "name": "python3",
      "display_name": "Python 3"
    },
    "language_info": {
      "name": "python"
    }
  },
  "cells": [
    {
      "cell_type": "markdown",
      "metadata": {
        "id": "view-in-github",
        "colab_type": "text"
      },
      "source": [
        "<a href=\"https://colab.research.google.com/github/hrishavranjan/Python-Basic-Collab-Codes/blob/main/LAB_7_AI_31_01_25.ipynb\" target=\"_parent\"><img src=\"https://colab.research.google.com/assets/colab-badge.svg\" alt=\"Open In Colab\"/></a>"
      ]
    },
    {
      "cell_type": "code",
      "execution_count": 2,
      "metadata": {
        "colab": {
          "base_uri": "https://localhost:8080/"
        },
        "id": "Gs1kCHwGvPi0",
        "outputId": "eb6adb31-16e2-44f3-8c8e-5ec63ce14490"
      },
      "outputs": [
        {
          "output_type": "stream",
          "name": "stdout",
          "text": [
            "|   |   |   |\n",
            "|   |   |   |\n",
            "|   |   |   |\n",
            "BFS AI chooses move: 2\n",
            "DFS AI chooses move: 6\n",
            "A* AI chooses move: 6\n"
          ]
        }
      ],
      "source": [
        "from collections import deque\n",
        "import heapq\n",
        "\n",
        "class TicTacToe:\n",
        "    def __init__(self):\n",
        "        self.board = [' '] * 9\n",
        "        self.current_winner = None\n",
        "\n",
        "    def print_board(self):\n",
        "        for row in [self.board[i * 3:(i + 1) * 3] for i in range(3)]:\n",
        "            print('| ' + ' | '.join(row) + ' |')\n",
        "\n",
        "    def available_moves(self):\n",
        "        return [i for i, spot in enumerate(self.board) if spot == ' ']\n",
        "\n",
        "    def make_move(self, square, letter):\n",
        "        if self.board[square] == ' ':\n",
        "            self.board[square] = letter\n",
        "            if self.check_winner(square, letter):\n",
        "                self.current_winner = letter\n",
        "            return True\n",
        "        return False\n",
        "\n",
        "    def check_winner(self, square, letter):\n",
        "        row_ind = square // 3\n",
        "        row = self.board[row_ind * 3:(row_ind + 1) * 3]\n",
        "        if all([s == letter for s in row]):\n",
        "            return True\n",
        "\n",
        "        col_ind = square % 3\n",
        "        column = [self.board[col_ind + i * 3] for i in range(3)]\n",
        "        if all([s == letter for s in column]):\n",
        "            return True\n",
        "\n",
        "        if square % 2 == 0:\n",
        "            diagonal1 = [self.board[i] for i in [0, 4, 8]]\n",
        "            diagonal2 = [self.board[i] for i in [2, 4, 6]]\n",
        "            if all([s == letter for s in diagonal1]) or all([s == letter for s in diagonal2]):\n",
        "                return True\n",
        "\n",
        "        return False\n",
        "\n",
        "def bfs_ai(game, letter):\n",
        "    queue = deque([(game.board[:], None)])\n",
        "\n",
        "    while queue:\n",
        "        board_state, move = queue.popleft()\n",
        "        available_moves = [i for i in range(9) if board_state[i] == ' ']\n",
        "\n",
        "        for m in available_moves:\n",
        "            new_board = board_state[:]\n",
        "            new_board[m] = letter\n",
        "            new_game = TicTacToe()\n",
        "            new_game.board = new_board\n",
        "            if new_game.check_winner(m, letter):\n",
        "                return m\n",
        "            queue.append((new_board, m))\n",
        "    return None\n",
        "\n",
        "def dfs_ai(game, letter):\n",
        "    stack = [(game.board[:], None)]\n",
        "\n",
        "    while stack:\n",
        "        board_state, move = stack.pop()\n",
        "        available_moves = [i for i in range(9) if board_state[i] == ' ']\n",
        "\n",
        "        for m in available_moves:\n",
        "            new_board = board_state[:]\n",
        "            new_board[m] = letter\n",
        "            new_game = TicTacToe()\n",
        "            new_game.board = new_board\n",
        "            if new_game.check_winner(m, letter):\n",
        "                return m\n",
        "            stack.append((new_board, m))\n",
        "    return None\n",
        "\n",
        "def heuristic(board, letter):\n",
        "    return sum(1 for i in range(9) if board[i] == letter)\n",
        "\n",
        "def a_star_ai(game, letter):\n",
        "    heap = [(0, game.board[:], None)]\n",
        "\n",
        "    while heap:\n",
        "        _, board_state, move = heapq.heappop(heap)\n",
        "        available_moves = [i for i in range(9) if board_state[i] == ' ']\n",
        "\n",
        "        for m in available_moves:\n",
        "            new_board = board_state[:]\n",
        "            new_board[m] = letter\n",
        "            new_game = TicTacToe()\n",
        "            new_game.board = new_board\n",
        "            if new_game.check_winner(m, letter):\n",
        "                return m\n",
        "            heapq.heappush(heap, (heuristic(new_board, letter), new_board, m))\n",
        "    return None\n",
        "\n",
        "if __name__ == \"__main__\":\n",
        "    game = TicTacToe()\n",
        "    game.print_board()\n",
        "    move = bfs_ai(game, 'X')\n",
        "    if move is not None:\n",
        "        print(f\"BFS AI chooses move: {move}\")\n",
        "    move = dfs_ai(game, 'X')\n",
        "    if move is not None:\n",
        "        print(f\"DFS AI chooses move: {move}\")\n",
        "    move = a_star_ai(game, 'X')\n",
        "    if move is not None:\n",
        "        print(f\"A* AI chooses move: {move}\")\n"
      ]
    }
  ]
}