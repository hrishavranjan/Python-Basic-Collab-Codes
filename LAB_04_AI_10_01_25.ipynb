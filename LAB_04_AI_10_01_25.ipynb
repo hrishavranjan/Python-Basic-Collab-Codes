{
  "nbformat": 4,
  "nbformat_minor": 0,
  "metadata": {
    "colab": {
      "provenance": [],
      "authorship_tag": "ABX9TyNL+rrO6rt1wqnyyxFTMWDg",
      "include_colab_link": true
    },
    "kernelspec": {
      "name": "python3",
      "display_name": "Python 3"
    },
    "language_info": {
      "name": "python"
    }
  },
  "cells": [
    {
      "cell_type": "markdown",
      "metadata": {
        "id": "view-in-github",
        "colab_type": "text"
      },
      "source": [
        "<a href=\"https://colab.research.google.com/github/hrishavranjan/Python-Basic-Collab-Codes/blob/main/LAB_04_AI_10_01_25.ipynb\" target=\"_parent\"><img src=\"https://colab.research.google.com/assets/colab-badge.svg\" alt=\"Open In Colab\"/></a>"
      ]
    },
    {
      "cell_type": "code",
      "execution_count": 1,
      "metadata": {
        "colab": {
          "base_uri": "https://localhost:8080/"
        },
        "id": "EZHn5iar9uOu",
        "outputId": "ed17595e-c525-4665-b40b-2a56f62f45ad"
      },
      "outputs": [
        {
          "output_type": "stream",
          "name": "stdout",
          "text": [
            "Visited: 0, 0 | Heuristic: 8\n",
            "Visited: 0, 1 | Heuristic: 7\n",
            "Visited: 0, 2 | Heuristic: 6\n",
            "Visited: 0, 3 | Heuristic: 5\n",
            "Visited: 0, 4 | Heuristic: 4\n",
            "Visited: 1, 4 | Heuristic: 3\n",
            "Visited: 2, 4 | Heuristic: 2\n",
            "Visited: 3, 4 | Heuristic: 1\n",
            "Visited: 4, 4 | Heuristic: 0\n",
            "\n",
            "🎉 Treasure found at: (4, 4)\n",
            "\n",
            "📍 Path Taken:\n",
            "(0, 0)\n",
            "(0, 1)\n",
            "(0, 2)\n",
            "(0, 3)\n",
            "(0, 4)\n",
            "(1, 4)\n",
            "(2, 4)\n",
            "(3, 4)\n",
            "(4, 4)\n"
          ]
        }
      ],
      "source": [
        "import heapq\n",
        "\n",
        "# Define grid size\n",
        "ROWS, COLS = 5, 5\n",
        "\n",
        "# Define the treasure location\n",
        "treasure_pos = (4, 4)\n",
        "\n",
        "# Directions: Up, Down, Left, Right\n",
        "directions = [(-1, 0), (1, 0), (0, -1), (0, 1)]\n",
        "\n",
        "def manhattan_distance(x, y, tx, ty):\n",
        "    return abs(x - tx) + abs(y - ty)\n",
        "\n",
        "def is_valid(x, y, visited):\n",
        "    return 0 <= x < ROWS and 0 <= y < COLS and not visited[x][y]\n",
        "\n",
        "def best_first_search(start, treasure):\n",
        "    visited = [[False for _ in range(COLS)] for _ in range(ROWS)]\n",
        "    pq = []\n",
        "\n",
        "    # Priority Queue holds (heuristic, position)\n",
        "    heapq.heappush(pq, (manhattan_distance(*start, *treasure), start))\n",
        "\n",
        "    path = []\n",
        "\n",
        "    while pq:\n",
        "        heuristic, current = heapq.heappop(pq)\n",
        "        x, y = current\n",
        "\n",
        "        if visited[x][y]:\n",
        "            continue\n",
        "\n",
        "        visited[x][y] = True\n",
        "        path.append((x, y))\n",
        "\n",
        "        print(f\"Visited: {x}, {y} | Heuristic: {heuristic}\")\n",
        "\n",
        "        if (x, y) == treasure:\n",
        "            print(\"\\n🎉 Treasure found at:\", (x, y))\n",
        "            return path\n",
        "\n",
        "        for dx, dy in directions:\n",
        "            nx, ny = x + dx, y + dy\n",
        "            if is_valid(nx, ny, visited):\n",
        "                h = manhattan_distance(nx, ny, *treasure)\n",
        "                heapq.heappush(pq, (h, (nx, ny)))\n",
        "\n",
        "    print(\"❌ Treasure not found.\")\n",
        "    return path\n",
        "\n",
        "# --- Main Program ---\n",
        "start_position = (0, 0)\n",
        "path_travelled = best_first_search(start_position, treasure_pos)\n",
        "\n",
        "# Display path\n",
        "print(\"\\n📍 Path Taken:\")\n",
        "for step in path_travelled:\n",
        "    print(step)\n"
      ]
    }
  ]
}