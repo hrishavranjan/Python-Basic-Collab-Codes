{
  "cells": [
    {
      "cell_type": "markdown",
      "metadata": {
        "id": "view-in-github",
        "colab_type": "text"
      },
      "source": [
        "<a href=\"https://colab.research.google.com/github/hrishavranjan/Python-Basic-Collab-Codes/blob/main/Welcome_To_Colab.ipynb\" target=\"_parent\"><img src=\"https://colab.research.google.com/assets/colab-badge.svg\" alt=\"Open In Colab\"/></a>"
      ]
    },
    {
      "cell_type": "code",
      "source": [
        "x=6\n",
        "y=9\n",
        "z=x*y\n",
        "print(z)"
      ],
      "metadata": {
        "colab": {
          "base_uri": "https://localhost:8080/"
        },
        "id": "AeT4ETAjGVkE",
        "outputId": "9db7459e-f35c-49d3-bae0-b1f295da3c3f"
      },
      "execution_count": 1,
      "outputs": [
        {
          "output_type": "stream",
          "name": "stdout",
          "text": [
            "54\n"
          ]
        }
      ]
    },
    {
      "cell_type": "code",
      "source": [
        "for i in range(40):\n",
        "  print(i)\n",
        "  if (i%2==0):\n",
        "    print(f\"{i} is even\")"
      ],
      "metadata": {
        "colab": {
          "base_uri": "https://localhost:8080/"
        },
        "id": "aYyTxuofGqd_",
        "outputId": "5fe63357-07a3-4e9e-d09c-ed66ea1bc32c"
      },
      "execution_count": 5,
      "outputs": [
        {
          "output_type": "stream",
          "name": "stdout",
          "text": [
            "0\n",
            "0 is even\n",
            "1\n",
            "2\n",
            "2 is even\n",
            "3\n",
            "4\n",
            "4 is even\n",
            "5\n",
            "6\n",
            "6 is even\n",
            "7\n",
            "8\n",
            "8 is even\n",
            "9\n",
            "10\n",
            "10 is even\n",
            "11\n",
            "12\n",
            "12 is even\n",
            "13\n",
            "14\n",
            "14 is even\n",
            "15\n",
            "16\n",
            "16 is even\n",
            "17\n",
            "18\n",
            "18 is even\n",
            "19\n",
            "20\n",
            "20 is even\n",
            "21\n",
            "22\n",
            "22 is even\n",
            "23\n",
            "24\n",
            "24 is even\n",
            "25\n",
            "26\n",
            "26 is even\n",
            "27\n",
            "28\n",
            "28 is even\n",
            "29\n",
            "30\n",
            "30 is even\n",
            "31\n",
            "32\n",
            "32 is even\n",
            "33\n",
            "34\n",
            "34 is even\n",
            "35\n",
            "36\n",
            "36 is even\n",
            "37\n",
            "38\n",
            "38 is even\n",
            "39\n"
          ]
        }
      ]
    },
    {
      "cell_type": "code",
      "source": [
        "for n in range(100, 1000):\n",
        "    if n == sum(int(d)**3 for d in str(n)):\n",
        "        print(f\"{n} = {' + '.join(f'{d}^3' for d in str(n))}\")\n"
      ],
      "metadata": {
        "colab": {
          "base_uri": "https://localhost:8080/"
        },
        "id": "qFhYgzplG10p",
        "outputId": "cf5c5721-0ec5-4880-e432-496cd5427fb3"
      },
      "execution_count": 6,
      "outputs": [
        {
          "output_type": "stream",
          "name": "stdout",
          "text": [
            "153 = 1^3 + 5^3 + 3^3\n",
            "370 = 3^3 + 7^3 + 0^3\n",
            "371 = 3^3 + 7^3 + 1^3\n",
            "407 = 4^3 + 0^3 + 7^3\n"
          ]
        }
      ]
    },
    {
      "cell_type": "code",
      "source": [
        "# Input a number and check whether number is +ive or -ive or either zero.\n",
        "num = float(input(\"Enter a number: \"))\n",
        "\n",
        "if num > 0:\n",
        "    print(\"The number is positive.\")\n",
        "elif num < 0:\n",
        "    print(\"The number is negative.\")\n",
        "else:\n",
        "    print(\"The number is zero.\")\n"
      ],
      "metadata": {
        "colab": {
          "base_uri": "https://localhost:8080/"
        },
        "id": "1sJDEtW2IKPB",
        "outputId": "f4b01881-5c36-4ac1-aceb-9d3d0b26f34b"
      },
      "execution_count": 7,
      "outputs": [
        {
          "output_type": "stream",
          "name": "stdout",
          "text": [
            "Enter a number: 6\n",
            "The number is positive.\n"
          ]
        }
      ]
    },
    {
      "cell_type": "code",
      "source": [
        "# Input a number and check if it is leap year or not.\n",
        "year = int(input(\"Enter a year: \"))\n",
        "\n",
        "if (year % 4 == 0 and year % 100 != 0) or (year % 400 == 0):\n",
        "    print(f\"{year} is a leap year.\")\n",
        "else:\n",
        "    print(f\"{year} is not a leap year.\")\n"
      ],
      "metadata": {
        "colab": {
          "base_uri": "https://localhost:8080/"
        },
        "id": "D8apgGDIKYyH",
        "outputId": "d619057a-218a-4715-af0e-63158821d068"
      },
      "execution_count": 9,
      "outputs": [
        {
          "output_type": "stream",
          "name": "stdout",
          "text": [
            "Enter a year: 20019\n",
            "20019 is not a leap year.\n"
          ]
        }
      ]
    },
    {
      "cell_type": "code",
      "source": [
        "# Input a number and check check if number is prime or not.\n",
        "num = int(input(\"Enter a number: \"))\n",
        "\n",
        "if num > 1:\n",
        "    for i in range(2, int(num**0.5) + 1):\n",
        "        if num % i == 0:\n",
        "            print(f\"{num} is not a prime number.\")\n",
        "            break\n",
        "    else:\n",
        "        print(f\"{num} is a prime number.\")\n",
        "else:\n",
        "    print(f\"{num} is not a prime number.\")\n"
      ],
      "metadata": {
        "colab": {
          "base_uri": "https://localhost:8080/"
        },
        "id": "VIvOGHQnKyBT",
        "outputId": "c423b8a5-cada-4ae1-cc6e-165b97665f65"
      },
      "execution_count": 10,
      "outputs": [
        {
          "output_type": "stream",
          "name": "stdout",
          "text": [
            "Enter a number: 7\n",
            "7 is a prime number.\n"
          ]
        }
      ]
    },
    {
      "cell_type": "code",
      "source": [
        "# Print all prime numbers between 1 and 1000\n",
        "def is_prime(num):\n",
        "    if num > 1:\n",
        "        for i in range(2, int(num**0.5) + 1):\n",
        "            if num % i == 0:\n",
        "                return False\n",
        "        return True\n",
        "    return False\n",
        "\n",
        "primes = [n for n in range(1, 1001) if is_prime(n)]\n",
        "print(primes)\n"
      ],
      "metadata": {
        "colab": {
          "base_uri": "https://localhost:8080/"
        },
        "id": "HlJhK3luLZi7",
        "outputId": "45ae3e47-ae7e-4aa9-86ca-4f23cddf5673"
      },
      "execution_count": 11,
      "outputs": [
        {
          "output_type": "stream",
          "name": "stdout",
          "text": [
            "[2, 3, 5, 7, 11, 13, 17, 19, 23, 29, 31, 37, 41, 43, 47, 53, 59, 61, 67, 71, 73, 79, 83, 89, 97, 101, 103, 107, 109, 113, 127, 131, 137, 139, 149, 151, 157, 163, 167, 173, 179, 181, 191, 193, 197, 199, 211, 223, 227, 229, 233, 239, 241, 251, 257, 263, 269, 271, 277, 281, 283, 293, 307, 311, 313, 317, 331, 337, 347, 349, 353, 359, 367, 373, 379, 383, 389, 397, 401, 409, 419, 421, 431, 433, 439, 443, 449, 457, 461, 463, 467, 479, 487, 491, 499, 503, 509, 521, 523, 541, 547, 557, 563, 569, 571, 577, 587, 593, 599, 601, 607, 613, 617, 619, 631, 641, 643, 647, 653, 659, 661, 673, 677, 683, 691, 701, 709, 719, 727, 733, 739, 743, 751, 757, 761, 769, 773, 787, 797, 809, 811, 821, 823, 827, 829, 839, 853, 857, 859, 863, 877, 881, 883, 887, 907, 911, 919, 929, 937, 941, 947, 953, 967, 971, 977, 983, 991, 997]\n"
          ]
        }
      ]
    },
    {
      "cell_type": "code",
      "source": [
        "# Print Sum of Array by input.\n",
        "n = int(input(\"Enter the number of elements in the array: \"))\n",
        "\n",
        "arr = list(map(int, input(f\"Enter {n} numbers separated by space: \").split()))\n",
        "\n",
        "if len(arr) != n:\n",
        "    print(\"Error: Number of elements entered does not match the specified size.\")\n",
        "else:\n",
        "\n",
        "    total = sum(arr)\n",
        "    print(f\"The sum of the array is: {total}\")\n"
      ],
      "metadata": {
        "colab": {
          "base_uri": "https://localhost:8080/"
        },
        "id": "m2FM6cgvLrYv",
        "outputId": "0a9307ae-4b5f-4034-a67c-4c01a578ac5f"
      },
      "execution_count": 13,
      "outputs": [
        {
          "output_type": "stream",
          "name": "stdout",
          "text": [
            "Enter the number of elements in the array: 4\n",
            "Enter 4 numbers separated by space: 6 6 6 6\n",
            "The sum of the array is: 24\n"
          ]
        }
      ]
    },
    {
      "cell_type": "code",
      "source": [
        "# Print the array in reverse order\n",
        "n = int(input(\"Enter the number of elements in the array: \"))\n",
        "\n",
        "arr = list(map(int, input(f\"Enter {n} numbers separated by space: \").split()))\n",
        "\n",
        "print(\"Array in reverse order:\", arr[::-1])\n"
      ],
      "metadata": {
        "colab": {
          "base_uri": "https://localhost:8080/"
        },
        "id": "xP325xhhQHm0",
        "outputId": "16250579-1331-4f0c-c41c-208238b7ae84"
      },
      "execution_count": 14,
      "outputs": [
        {
          "output_type": "stream",
          "name": "stdout",
          "text": [
            "Enter the number of elements in the array: 4\n",
            "Enter 4 numbers separated by space: 6 7 8 8\n",
            "Array in reverse order: [8, 8, 7, 6]\n"
          ]
        }
      ]
    },
    {
      "cell_type": "code",
      "source": [
        "# Find and print the largest number in the array\n",
        "n = int(input(\"Enter the number of elements in the array: \"))\n",
        "\n",
        "arr = list(map(int, input(f\"Enter {n} numbers separated by space: \").split()))\n",
        "\n",
        "largest = max(arr)\n",
        "print(f\"The largest number in the array is: {largest}\")\n"
      ],
      "metadata": {
        "id": "Wqhc1-lRSzTF",
        "outputId": "7f1111a7-a8bf-4d35-efd8-2718d6104fd8",
        "colab": {
          "base_uri": "https://localhost:8080/"
        }
      },
      "execution_count": 15,
      "outputs": [
        {
          "output_type": "stream",
          "name": "stdout",
          "text": [
            "Enter the number of elements in the array: 6\n",
            "Enter 6 numbers separated by space: 8 59 7 88 8 77\n",
            "The largest number in the array is: 88\n"
          ]
        }
      ]
    },
    {
      "cell_type": "code",
      "source": [],
      "metadata": {
        "id": "gE3p3KXvTCy5"
      },
      "execution_count": null,
      "outputs": []
    }
  ],
  "metadata": {
    "colab": {
      "name": "Welcome To Colab",
      "provenance": [],
      "include_colab_link": true
    },
    "kernelspec": {
      "display_name": "Python 3",
      "name": "python3"
    }
  },
  "nbformat": 4,
  "nbformat_minor": 0
}