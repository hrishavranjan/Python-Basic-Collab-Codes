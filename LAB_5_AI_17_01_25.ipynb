{
  "nbformat": 4,
  "nbformat_minor": 0,
  "metadata": {
    "colab": {
      "provenance": [],
      "authorship_tag": "ABX9TyM1CFf75uO84gRjZARnXH1j",
      "include_colab_link": true
    },
    "kernelspec": {
      "name": "python3",
      "display_name": "Python 3"
    },
    "language_info": {
      "name": "python"
    }
  },
  "cells": [
    {
      "cell_type": "markdown",
      "metadata": {
        "id": "view-in-github",
        "colab_type": "text"
      },
      "source": [
        "<a href=\"https://colab.research.google.com/github/hrishavranjan/Python-Basic-Collab-Codes/blob/main/LAB_5_AI_17_01_25.ipynb\" target=\"_parent\"><img src=\"https://colab.research.google.com/assets/colab-badge.svg\" alt=\"Open In Colab\"/></a>"
      ]
    },
    {
      "cell_type": "code",
      "execution_count": 4,
      "metadata": {
        "id": "-i6gg01Rcmjs",
        "outputId": "8438527f-9709-49ba-8faa-3b480dd51094",
        "colab": {
          "base_uri": "https://localhost:8080/"
        }
      },
      "outputs": [
        {
          "output_type": "stream",
          "name": "stdout",
          "text": [
            "Using H1 (Misplaced Tiles): Nodes explored: 3, Solution depth: 2\n",
            "Using H2 (Manhattan Distance): Nodes explored: 3, Solution depth: 2\n"
          ]
        }
      ],
      "source": [
        "import heapq\n",
        "\n",
        "class PuzzleState:\n",
        "    def __init__(self, board, goal, g=0, h=0):\n",
        "        self.board = board\n",
        "        self.goal = goal\n",
        "        self.g = g\n",
        "        self.h = h\n",
        "        self.f = g + h\n",
        "        self.empty_pos = next((i, j) for i, row in enumerate(board) for j, val in enumerate(row) if val == 0)\n",
        "\n",
        "    def __lt__(self, other):\n",
        "        return self.f < other.f\n",
        "\n",
        "    def is_goal(self):\n",
        "        return self.board == self.goal\n",
        "\n",
        "    def neighbors(self):\n",
        "        x, y = self.empty_pos\n",
        "        moves = [(x+dx, y+dy) for dx, dy in [(-1, 0), (1, 0), (0, -1), (0, 1)] if 0 <= x+dx < 3 and 0 <= y+dy < 3]\n",
        "        return [self._move(nx, ny) for nx, ny in moves]\n",
        "\n",
        "    def _move(self, nx, ny):\n",
        "        new_board = [row[:] for row in self.board]\n",
        "        x, y = self.empty_pos\n",
        "        new_board[x][y], new_board[nx][ny] = new_board[nx][ny], new_board[x][y]\n",
        "        return PuzzleState(new_board, self.goal, self.g + 1)\n",
        "\n",
        "\n",
        "def h_misplaced(state):\n",
        "    return sum(1 for i, row in enumerate(state.board) for j, val in enumerate(row) if val and val != state.goal[i][j])\n",
        "\n",
        "def h_manhattan(state):\n",
        "    return sum(abs(i - (val - 1) // 3) + abs(j - (val - 1) % 3) for i, row in enumerate(state.board) for j, val in enumerate(row) if val)\n",
        "\n",
        "def a_star(start, goal, heuristic):\n",
        "    start_state = PuzzleState(start, goal, h=heuristic(PuzzleState(start, goal)))\n",
        "    open_list, closed_set, nodes = [], set(), 0\n",
        "    heapq.heappush(open_list, start_state)\n",
        "\n",
        "    while open_list:\n",
        "        state = heapq.heappop(open_list)\n",
        "        nodes += 1\n",
        "\n",
        "        if state.is_goal():\n",
        "            return nodes, state.g\n",
        "\n",
        "        closed_set.add(tuple(map(tuple, state.board)))\n",
        "\n",
        "        for neighbor in state.neighbors():\n",
        "            if tuple(map(tuple, neighbor.board)) not in closed_set:\n",
        "                neighbor.h = heuristic(neighbor)\n",
        "                neighbor.f = neighbor.g + neighbor.h\n",
        "                heapq.heappush(open_list, neighbor)\n",
        "\n",
        "    return -1, -1\n",
        "\n",
        "if __name__ == \"__main__\":\n",
        "    start = [[1, 2, 3], [4, 0, 5], [7, 8, 6]]\n",
        "    goal = [[1, 2, 3], [4, 5, 6], [7, 8, 0]]\n",
        "\n",
        "    for h, name in [(h_misplaced, \"H1 (Misplaced Tiles)\"), (h_manhattan, \"H2 (Manhattan Distance)\")]:\n",
        "        nodes, depth = a_star(start, goal, h)\n",
        "        print(f\"Using {name}: Nodes explored: {nodes}, Solution depth: {depth}\")\n"
      ]
    }
  ]
}